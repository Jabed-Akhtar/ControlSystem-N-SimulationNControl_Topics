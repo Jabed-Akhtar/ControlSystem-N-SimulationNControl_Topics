{
 "cells": [
  {
   "cell_type": "markdown",
   "id": "496ef7bf-fc86-4e5c-99a0-20f6365d6694",
   "metadata": {},
   "source": [
    "# Jacobian matrix\n",
    "The Jacobian matrix is a matrix of partial derivatives that describes how a set of functions change with respect to their variables. In the context of a dynamic system, particularly for stability analysis, the Jacobian matrix helps linearize the system around an equilibrium point. This linearization allows us to study the local behavior of the system near the equilibrium.  \n",
    "For a non-linear system represented by x_dot=f(x,u), where x is the state vector, u is the input vector, and x_dot is the vector of time derivatives, the Jacobian matrix is given by:  \n",
    "<img src=\"notebook_imgs/partial_derivative_fun.png\" alt=\"Example Image\" width=\"70\"/>  \n",
    "The Jacobian matrix A represents how small changes in the state variables x correspond to changes in the time derivatives x_dot. This is crucial for stability analysis, as it allows us to study the linearized system dynamics near an equilibrium point."
   ]
  },
  {
   "cell_type": "code",
   "execution_count": 1,
   "id": "179886c6-5d8a-4ab8-8c84-10b53f7d7c1f",
   "metadata": {},
   "outputs": [],
   "source": [
    "import sympy as sp\n",
    "from scipy.optimize import fsolve"
   ]
  },
  {
   "cell_type": "code",
   "execution_count": 13,
   "id": "15265dac-d938-4683-8e68-7099554be9ba",
   "metadata": {},
   "outputs": [],
   "source": [
    "# Define symbolic variables\n",
    "v, u = sp.symbols('v u')\n",
    "\n",
    "# System parameters\n",
    "Cd = 0.3          # Drag coefficient\n",
    "rho = 1.2         # Air density (kg/m^3)\n",
    "A = 2.0           # Frontal area (m^2)\n",
    "mu = 0.01         # Coefficient of rolling resistance\n",
    "m = 1000.0        # Mass of the vehicle (kg)\n",
    "g = 9.81          # Acceleration due to gravity (m/s^2)"
   ]
  },
  {
   "cell_type": "markdown",
   "id": "3db8c3dc-b63c-4ed0-b70f-9aeffe5156f6",
   "metadata": {},
   "source": [
    "The system dynamics is given by:  \n",
    "<img src=\"notebook_imgs/jacobian_examle_fun.png\" alt=\"Example Image\" width=\"250\"/>"
   ]
  },
  {
   "cell_type": "code",
   "execution_count": 23,
   "id": "7a5d4515-e65f-43e1-9169-e5bc408e6107",
   "metadata": {},
   "outputs": [],
   "source": [
    "# Define the non-linear dynamics\n",
    "Faero = 0.5 * Cd * rho * A * v**2\n",
    "Frolling = mu * m * g\n",
    "f = u - Faero - Frolling"
   ]
  },
  {
   "cell_type": "code",
   "execution_count": 16,
   "id": "6f13f7bb-2a78-4ac4-ae72-87a8e1d386ec",
   "metadata": {},
   "outputs": [
    {
     "name": "stdout",
     "output_type": "stream",
     "text": [
      "Faero: 0.36*v**2\n",
      "Frolling: 98.10000000000001\n",
      "f: u - 0.36*v**2 - 98.1\n"
     ]
    }
   ],
   "source": [
    "print('Faero:', Faero)\n",
    "print('Frolling:', Frolling)\n",
    "print('f:', f)"
   ]
  },
  {
   "cell_type": "markdown",
   "id": "c2aed645-08f1-4a2a-96b5-34e97ddf15d6",
   "metadata": {},
   "source": [
    "The Jacobian matrix A is calculated as the partial derivative of f with respect to both state variable v and control input u:  \n",
    "<img src=\"notebook_imgs/partial_derivative_v_u_fun.png\" alt=\"Example Image\" width=\"150\"/>  \n",
    "However, in the provided code, we are only interested in the partial derivative with respect to v, so the Jacobian matrix, which is 1x1 matrix, is simplified to:  \n",
    "<img src=\"notebook_imgs/partial_derivative_fun_matrix.png\" alt=\"Example Image\" width=\"100\"/>  \n",
    "Now, let's express this mathematically:  \n",
    "<img src=\"notebook_imgs/jacobian_example_matrix1.png\" alt=\"Example Image\" width=\"150\"/>  \n",
    "This 1x1 matrix represents the rate of change of the system dynamics with respect to the velocity v. The negative sign indicates that the system is generally stable because an increase in velocity results in a decrease in the applied force u."
   ]
  },
  {
   "cell_type": "code",
   "execution_count": 20,
   "id": "9b25975e-3cd3-4d2b-b01c-ab25d7eedbd6",
   "metadata": {},
   "outputs": [],
   "source": [
    "# Compute the Jacobian matrix\n",
    "'''\n",
    "This line creates a 1x1 matrix representing the partial derivative\n",
    "of the function f with respect to v.\n",
    "'''\n",
    "Jacobian_matrix = sp.Matrix([sp.diff(f, v)])"
   ]
  },
  {
   "cell_type": "code",
   "execution_count": 21,
   "id": "55da1251-8ff2-4a50-9120-fa5f4d195aed",
   "metadata": {},
   "outputs": [
    {
     "name": "stdout",
     "output_type": "stream",
     "text": [
      "Matrix([[-0.72*v]])\n"
     ]
    }
   ],
   "source": [
    "print(Jacobian_matrix)"
   ]
  },
  {
   "cell_type": "markdown",
   "id": "8ae06b16-516e-47a5-a528-76bd70e068f1",
   "metadata": {},
   "source": [
    "***!!! Not necessary >>***  \n",
    "The original Jacobian matrix is denoted as A and is given by:  \n",
    "<img src=\"notebook_imgs/jacobian_example_matrix1.png\" alt=\"Example Image\" width=\"150\"/>  \n",
    "Now, let's compute the Jacobian matrix of A with respect to v:  \n",
    "<img src=\"notebook_imgs/jacobian_example_matrix2.png\" alt=\"Example Image\" width=\"150\"/>  \n",
    "This expression involves taking the derivative of the single entry of A with respect to v. The result is a 1x1 matrix:  \n",
    "<img src=\"notebook_imgs/jacobian_example_matrix3.png\" alt=\"Example Image\" width=\"150\"/>  \n",
    "This represents the rate of change of the original Jacobian matrix A with respect to the state variable v. It reflects how changes in the velocity v affect the original Jacobian matrix's entry."
   ]
  },
  {
   "cell_type": "code",
   "execution_count": 19,
   "id": "b7c987c5-488d-4a67-8539-b52e9c41470e",
   "metadata": {},
   "outputs": [],
   "source": [
    "#!!! Not needed\n",
    "Jacobian_matrix__ = Jacobian_matrix.jacobian([v])"
   ]
  },
  {
   "cell_type": "code",
   "execution_count": 22,
   "id": "a188f72a-c121-458a-8733-446c2498cc00",
   "metadata": {},
   "outputs": [
    {
     "name": "stdout",
     "output_type": "stream",
     "text": [
      "Matrix([[-0.720000000000000]])\n"
     ]
    }
   ],
   "source": [
    "print(Jacobian_matrix__)"
   ]
  },
  {
   "cell_type": "code",
   "execution_count": 24,
   "id": "ce81f101-3de0-4df5-bd5e-7c8c763caed7",
   "metadata": {},
   "outputs": [
    {
     "name": "stdout",
     "output_type": "stream",
     "text": [
      "Equilibrium Speed(s): [0.]\n",
      "Corresponding Equilibrium Force(s): [98.1]\n",
      "\n",
      "Jacobian Matrix at Equilibrium:\n",
      "Matrix([[0]])\n",
      "\n",
      "Eigenvalues at Equilibrium:\n",
      "{0: 1}\n"
     ]
    },
    {
     "name": "stderr",
     "output_type": "stream",
     "text": [
      "C:\\Users\\jabed\\miniconda3\\envs\\j_ws_py37\\lib\\site-packages\\scipy\\optimize\\minpack.py:175: RuntimeWarning: The iteration is not making good progress, as measured by the \n",
      "  improvement from the last ten iterations.\n",
      "  warnings.warn(msg, RuntimeWarning)\n"
     ]
    }
   ],
   "source": [
    "# Function to find equilibrium points\n",
    "def equilibrium_equation(v, u):\n",
    "    Faero = 0.5 * Cd * rho * A * v**2\n",
    "    Frolling = mu * m * g\n",
    "    return u - Faero - Frolling\n",
    "\n",
    "# Solve for equilibrium points\n",
    "equilibrium_speeds = fsolve(equilibrium_equation, x0=0, args=(0,))\n",
    "equilibrium_forces = 0.5 * Cd * rho * A * equilibrium_speeds**2 + mu * m * g\n",
    "\n",
    "print(\"Equilibrium Speed(s):\", equilibrium_speeds)\n",
    "print(\"Corresponding Equilibrium Force(s):\", equilibrium_forces)\n",
    "\n",
    "# Substitute equilibrium values for analysis\n",
    "equilibrium_speed = equilibrium_speeds[0]  # Choose one equilibrium speed for analysis\n",
    "equilibrium_force = equilibrium_forces[0]  # Corresponding equilibrium force\n",
    "Jacobian_matrix_at_equilibrium = Jacobian_matrix.subs({v: equilibrium_speed, u: equilibrium_force})\n",
    "\n",
    "print(\"\\nJacobian Matrix at Equilibrium:\")\n",
    "print(Jacobian_matrix_at_equilibrium)\n",
    "\n",
    "# Eigenvalues of the linearized system\n",
    "eigenvalues = Jacobian_matrix_at_equilibrium.eigenvals()\n",
    "print(\"\\nEigenvalues at Equilibrium:\")\n",
    "print(eigenvalues)"
   ]
  },
  {
   "cell_type": "raw",
   "id": "b7112232-bfdd-4478-9608-90022af5bec3",
   "metadata": {},
   "source": [
    "###### END OF FILE ########################"
   ]
  }
 ],
 "metadata": {
  "kernelspec": {
   "display_name": "Python 3 (ipykernel)",
   "language": "python",
   "name": "python3"
  },
  "language_info": {
   "codemirror_mode": {
    "name": "ipython",
    "version": 3
   },
   "file_extension": ".py",
   "mimetype": "text/x-python",
   "name": "python",
   "nbconvert_exporter": "python",
   "pygments_lexer": "ipython3",
   "version": "3.7.12"
  }
 },
 "nbformat": 4,
 "nbformat_minor": 5
}
